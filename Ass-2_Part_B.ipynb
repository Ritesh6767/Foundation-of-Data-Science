{
 "cells": [
  {
   "cell_type": "code",
   "execution_count": null,
   "id": "fe9976f2",
   "metadata": {},
   "outputs": [],
   "source": [
    "# Ritesh bhingare \n",
    "# Ass_02_Part_B\n",
    "# Roll No: 19"
   ]
  },
  {
   "cell_type": "code",
   "execution_count": null,
   "id": "eb3920b4",
   "metadata": {},
   "outputs": [
    {
     "data": {
      "text/html": [
       "<div>\n",
       "<style scoped>\n",
       "    .dataframe tbody tr th:only-of-type {\n",
       "        vertical-align: middle;\n",
       "    }\n",
       "\n",
       "    .dataframe tbody tr th {\n",
       "        vertical-align: top;\n",
       "    }\n",
       "\n",
       "    .dataframe thead th {\n",
       "        text-align: right;\n",
       "    }\n",
       "</style>\n",
       "<table border=\"1\" class=\"dataframe\">\n",
       "  <thead>\n",
       "    <tr style=\"text-align: right;\">\n",
       "      <th></th>\n",
       "      <th>ID</th>\n",
       "      <th>Name</th>\n",
       "      <th>Age</th>\n",
       "      <th>Marks</th>\n",
       "      <th>Gender</th>\n",
       "    </tr>\n",
       "  </thead>\n",
       "  <tbody>\n",
       "    <tr>\n",
       "      <th>0</th>\n",
       "      <td>1</td>\n",
       "      <td>Student_1</td>\n",
       "      <td>24</td>\n",
       "      <td>94</td>\n",
       "      <td>Male</td>\n",
       "    </tr>\n",
       "    <tr>\n",
       "      <th>1</th>\n",
       "      <td>2</td>\n",
       "      <td>Student_2</td>\n",
       "      <td>21</td>\n",
       "      <td>81</td>\n",
       "      <td>Female</td>\n",
       "    </tr>\n",
       "    <tr>\n",
       "      <th>2</th>\n",
       "      <td>3</td>\n",
       "      <td>Student_3</td>\n",
       "      <td>22</td>\n",
       "      <td>90</td>\n",
       "      <td>Male</td>\n",
       "    </tr>\n",
       "    <tr>\n",
       "      <th>3</th>\n",
       "      <td>4</td>\n",
       "      <td>Student_4</td>\n",
       "      <td>24</td>\n",
       "      <td>56</td>\n",
       "      <td>Female</td>\n",
       "    </tr>\n",
       "    <tr>\n",
       "      <th>4</th>\n",
       "      <td>5</td>\n",
       "      <td>Student_5</td>\n",
       "      <td>20</td>\n",
       "      <td>44</td>\n",
       "      <td>Female</td>\n",
       "    </tr>\n",
       "  </tbody>\n",
       "</table>\n",
       "</div>"
      ],
      "text/plain": [
       "   ID       Name  Age  Marks  Gender\n",
       "0   1  Student_1   24     94    Male\n",
       "1   2  Student_2   21     81  Female\n",
       "2   3  Student_3   22     90    Male\n",
       "3   4  Student_4   24     56  Female\n",
       "4   5  Student_5   20     44  Female"
      ]
     },
     "execution_count": 1,
     "metadata": {},
     "output_type": "execute_result"
    }
   ],
   "source": [
    "import pandas as pd\n",
    "df=pd.read_csv(\"student_dataset.csv\")\n",
    "df.head()"
   ]
  },
  {
   "cell_type": "code",
   "execution_count": 2,
   "id": "b7a03ae5",
   "metadata": {},
   "outputs": [
    {
     "data": {
      "text/plain": [
       "ID        0\n",
       "Name      0\n",
       "Age       0\n",
       "Marks     0\n",
       "Gender    0\n",
       "dtype: int64"
      ]
     },
     "execution_count": 2,
     "metadata": {},
     "output_type": "execute_result"
    }
   ],
   "source": [
    "df.isnull().sum()"
   ]
  },
  {
   "cell_type": "code",
   "execution_count": 6,
   "id": "172310d5",
   "metadata": {},
   "outputs": [
    {
     "name": "stderr",
     "output_type": "stream",
     "text": [
      "C:\\Users\\rites\\AppData\\Local\\Temp\\ipykernel_15088\\2805342014.py:1: FutureWarning: A value is trying to be set on a copy of a DataFrame or Series through chained assignment using an inplace method.\n",
      "The behavior will change in pandas 3.0. This inplace method will never work because the intermediate object on which we are setting values always behaves as a copy.\n",
      "\n",
      "For example, when doing 'df[col].method(value, inplace=True)', try using 'df.method({col: value}, inplace=True)' or df[col] = df[col].method(value) instead, to perform the operation inplace on the original object.\n",
      "\n",
      "\n",
      "  df[\"Marks\"].fillna(df[\"Marks\"].mean(),inplace=True)\n"
     ]
    }
   ],
   "source": [
    "df[\"Marks\"].fillna(df[\"Marks\"].mean(),inplace=True)"
   ]
  },
  {
   "cell_type": "code",
   "execution_count": 11,
   "id": "c7bb190d",
   "metadata": {},
   "outputs": [
    {
     "name": "stdout",
     "output_type": "stream",
     "text": [
      "\n",
      " Before \n",
      ":         Name  Score  Marks\n",
      "0     sachin   30.0     85\n",
      "1  prathmesh    NaN     90\n",
      "2    krishna   85.0     78\n",
      "3      rohit    NaN     88\n",
      "\n",
      " After \n",
      ":         Name  Score  Marks\n",
      "0     sachin   30.0     85\n",
      "1  prathmesh   57.5     90\n",
      "2    krishna   85.0     78\n",
      "3      rohit   57.5     88\n"
     ]
    },
    {
     "name": "stderr",
     "output_type": "stream",
     "text": [
      "C:\\Users\\rites\\AppData\\Local\\Temp\\ipykernel_15088\\74180574.py:8: FutureWarning: A value is trying to be set on a copy of a DataFrame or Series through chained assignment using an inplace method.\n",
      "The behavior will change in pandas 3.0. This inplace method will never work because the intermediate object on which we are setting values always behaves as a copy.\n",
      "\n",
      "For example, when doing 'df[col].method(value, inplace=True)', try using 'df.method({col: value}, inplace=True)' or df[col] = df[col].method(value) instead, to perform the operation inplace on the original object.\n",
      "\n",
      "\n",
      "  df1[\"Score\"].fillna(df1[\"Score\"].mean(),inplace=True)\n"
     ]
    }
   ],
   "source": [
    "data = {\n",
    "    'Name': ['sachin', 'prathmesh', 'krishna', 'rohit'],\n",
    "    'Score': [30, None, 85, None],\n",
    "    'Marks': [85, 90, 78, 88]\n",
    "}\n",
    "df1=pd.DataFrame(data)\n",
    "print(\"\\n Before \\n:\",df1)\n",
    "df1[\"Score\"].fillna(df1[\"Score\"].mean(),inplace=True)\n",
    "print(\"\\n After \\n:\",df1)\n"
   ]
  },
  {
   "cell_type": "code",
   "execution_count": 12,
   "id": "e49b17da",
   "metadata": {},
   "outputs": [
    {
     "name": "stdout",
     "output_type": "stream",
     "text": [
      "Name\n",
      "krishna      78.0\n",
      "prathmesh    90.0\n",
      "rohit        88.0\n",
      "sachin       85.0\n",
      "Name: Marks, dtype: float64\n"
     ]
    }
   ],
   "source": [
    "print(df1.groupby(\"Name\")[\"Marks\"].mean())"
   ]
  },
  {
   "cell_type": "code",
   "execution_count": 13,
   "id": "540b2dda",
   "metadata": {},
   "outputs": [
    {
     "name": "stdout",
     "output_type": "stream",
     "text": [
      "  Department Student  Marks  Age\n",
      "0         IT    Amit     88   21\n",
      "1         IT    Riya     92   20\n",
      "2         CS   Karan     76   23\n",
      "3         CS   Meena     85   22\n",
      "4         EC   Ankit     95   21\n",
      "5         EC    Neha     90   20\n",
      "6         IT   Rahul     88   22\n",
      "7         CS  Simran     72   24\n"
     ]
    }
   ],
   "source": [
    "import pandas as pd\n",
    "\n",
    "data = {\n",
    "    'Department': ['IT','IT','CS','CS','EC','EC','IT','CS'],\n",
    "    'Student': ['Amit','Riya','Karan','Meena','Ankit','Neha','Rahul','Simran'],\n",
    "    'Marks': [88,92,76,85,95,90,88,72],\n",
    "    'Age': [21,20,23,22,21,20,22,24]\n",
    "}\n",
    "\n",
    "df2 = pd.DataFrame(data)\n",
    "print(df2)\n"
   ]
  },
  {
   "cell_type": "code",
   "execution_count": 14,
   "id": "ca508910",
   "metadata": {},
   "outputs": [
    {
     "name": "stdout",
     "output_type": "stream",
     "text": [
      "Department\n",
      "CS    77.666667\n",
      "EC    92.500000\n",
      "IT    89.333333\n",
      "Name: Marks, dtype: float64\n"
     ]
    }
   ],
   "source": [
    "print(df2.groupby(\"Department\")[\"Marks\"].mean())"
   ]
  },
  {
   "cell_type": "code",
   "execution_count": 16,
   "id": "03d044c3",
   "metadata": {},
   "outputs": [
    {
     "name": "stdout",
     "output_type": "stream",
     "text": [
      "                 mean  max  min  count\n",
      "Department                            \n",
      "CS          77.666667   85   72      3\n",
      "EC          92.500000   95   90      2\n",
      "IT          89.333333   92   88      3\n"
     ]
    }
   ],
   "source": [
    "print(df2.groupby(\"Department\")[\"Marks\"].agg([\"mean\",\"max\",\"min\",\"count\"]))"
   ]
  },
  {
   "cell_type": "code",
   "execution_count": 19,
   "id": "563c0dd8",
   "metadata": {},
   "outputs": [
    {
     "data": {
      "text/plain": [
       "<Axes: ylabel='Frequency'>"
      ]
     },
     "execution_count": 19,
     "metadata": {},
     "output_type": "execute_result"
    },
    {
     "data": {
      "image/png": "[encoded data removed]",
      "text/plain": [
       "<Figure size 640x480 with 1 Axes>"
      ]
     },
     "metadata": {},
     "output_type": "display_data"
    }
   ],
   "source": [
    "df2.plot(x=\"Marks\",y=\"Age\",kind=\"hist\")"
   ]
  },
  {
   "cell_type": "code",
   "execution_count": 20,
   "id": "f77f1f41",
   "metadata": {},
   "outputs": [
    {
     "data": {
      "text/plain": [
       "<Axes: title={'center': 'Student Marks Bar Graph'}, xlabel='Student'>"
      ]
     },
     "execution_count": 20,
     "metadata": {},
     "output_type": "execute_result"
    },
    {
     "data": {
      "image/png": "[encoded data removed]",
      "text/plain": [
       "<Figure size 640x480 with 1 Axes>"
      ]
     },
     "metadata": {},
     "output_type": "display_data"
    }
   ],
   "source": [
    "df2.plot(kind='bar',x='Student',y='Marks',title='Student Marks Bar Graph')"
   ]
  },
  {
   "cell_type": "code",
   "execution_count": 21,
   "id": "f9c52114",
   "metadata": {},
   "outputs": [
    {
     "data": {
      "text/plain": [
       "<Axes: >"
      ]
     },
     "execution_count": 21,
     "metadata": {},
     "output_type": "execute_result"
    },
    {
     "data": {
      "image/png": "[encoded data removed]",
      "text/plain": [
       "<Figure size 640x480 with 1 Axes>"
      ]
     },
     "metadata": {},
     "output_type": "display_data"
    }
   ],
   "source": [
    "df2.plot(kind=\"box\")"
   ]
  },
  {
   "cell_type": "code",
   "execution_count": 24,
   "id": "6182db14",
   "metadata": {},
   "outputs": [
    {
     "data": {
      "text/plain": [
       "<Axes: >"
      ]
     },
     "execution_count": 24,
     "metadata": {},
     "output_type": "execute_result"
    },
    {
     "data": {
      "image/png": "[encoded data removed]",
      "text/plain": [
       "<Figure size 640x480 with 1 Axes>"
      ]
     },
     "metadata": {},
     "output_type": "display_data"
    }
   ],
   "source": [
    "df2.plot(kind='box',x=\"Marks\",y=\"Age\")"
   ]
  }
 ],
 "metadata": {
  "kernelspec": {
   "display_name": "Python 3",
   "language": "python",
   "name": "python3"
  },
  "language_info": {
   "codemirror_mode": {
    "name": "ipython",
    "version": 3
   },
   "file_extension": ".py",
   "mimetype": "text/x-python",
   "name": "python",
   "nbconvert_exporter": "python",
   "pygments_lexer": "ipython3",
   "version": "3.13.5"
  }
 },
 "nbformat": 4,
 "nbformat_minor": 5
}
