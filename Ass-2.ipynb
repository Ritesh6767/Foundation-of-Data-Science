{
 "cells": [
  {
   "cell_type": "code",
   "execution_count": null,
   "id": "7422ccd5",
   "metadata": {},
   "outputs": [],
   "source": [
    "#Ritesh Bhingare \n",
    "# Assignment no-02\n",
    "# TY A \n",
    "# Roll no- 19"
   ]
  },
  {
   "cell_type": "code",
   "execution_count": 3,
   "id": "c36954df",
   "metadata": {},
   "outputs": [
    {
     "name": "stdout",
     "output_type": "stream",
     "text": [
      "a     1\n",
      "b    23\n",
      "c    45\n",
      "d    23\n",
      "e     3\n",
      "f     4\n",
      "g    56\n",
      "h     7\n",
      "dtype: int64\n",
      "\n",
      "Accessing the single value\n",
      "1\n"
     ]
    }
   ],
   "source": [
    "# importing libraries\n",
    "import pandas as pd\n",
    "# Creating the Series \n",
    "data =pd.Series([1,23,45,23,3,4,56,7],index=['a','b','c','d','e','f','g','h'])\n",
    "# printing series\n",
    "print(data)\n",
    "print(\"\\nAccessing the single value\")\n",
    "print(data['a'])"
   ]
  },
  {
   "cell_type": "code",
   "execution_count": 4,
   "id": "663ab9d4",
   "metadata": {},
   "outputs": [
    {
     "name": "stdout",
     "output_type": "stream",
     "text": [
      "\n",
      "Multiply by 2\n",
      " : 0       2\n",
      "1       4\n",
      "2      68\n",
      "3       8\n",
      "4     112\n",
      "5      12\n",
      "6     154\n",
      "7      18\n",
      "8     194\n",
      "9      12\n",
      "10    108\n",
      "11     64\n",
      "dtype: int64\n",
      "\n",
      "Squaring :\n",
      " 0        1\n",
      "1        4\n",
      "2     1156\n",
      "3       16\n",
      "4     3136\n",
      "5       36\n",
      "6     5929\n",
      "7       81\n",
      "8     9409\n",
      "9       36\n",
      "10    2916\n",
      "11    1024\n",
      "dtype: int64\n"
     ]
    }
   ],
   "source": [
    "#Arthimetric operation on Series\n",
    "import pandas as pd\n",
    "se=pd.Series([1,2,34,4,56,6,77,9,97,6,54,32])\n",
    "# Multiply by 2\n",
    "print(\"\\nMultiply by 2\\n :\",se*2)\n",
    "# Square\n",
    "print(\"\\nSquaring :\\n\",se**2)\n"
   ]
  },
  {
   "cell_type": "code",
   "execution_count": null,
   "id": "a0b68136",
   "metadata": {},
   "outputs": [
    {
     "data": {
      "text/plain": [
       "pandas.core.series.Series"
      ]
     },
     "execution_count": 5,
     "metadata": {},
     "output_type": "execute_result"
    }
   ],
   "source": [
    "type(data)"
   ]
  },
  {
   "cell_type": "code",
   "execution_count": 2,
   "id": "eb65a5eb",
   "metadata": {},
   "outputs": [
    {
     "name": "stdout",
     "output_type": "stream",
     "text": [
      "Display Data using Dataframe\n",
      "      Name  Age        City\n",
      "0     yash   23        pune\n",
      "1      ram   45      mumbai\n",
      "2     sham   34      nagpur\n",
      "3    rahul   22      nashik\n",
      "4  Saurabh   32  ahmednagar\n",
      "5    rohit   21     solapur\n",
      "\n",
      "Accessing the single value\n",
      "0       yash\n",
      "1        ram\n",
      "2       sham\n",
      "3      rahul\n",
      "4    Saurabh\n",
      "5      rohit\n",
      "Name: Name, dtype: object\n",
      "\n",
      "Accessing multiple values\n",
      "   Age        City\n",
      "0   23        pune\n",
      "1   45      mumbai\n",
      "2   34      nagpur\n",
      "3   22      nashik\n",
      "4   32  ahmednagar\n",
      "5   21     solapur\n"
     ]
    }
   ],
   "source": [
    "# Creating dataframe\n",
    "import pandas as pd\n",
    "data1={'Name':['yash','ram','sham','rahul','Saurabh','rohit'],\n",
    "    'Age':[23,45,34,22,32,21],\n",
    "    'City':['pune','mumbai','nagpur','nashik','ahmednagar','solapur']}\n",
    "df=pd.DataFrame(data1)\n",
    "print(\"Display Data using Dataframe\")\n",
    "print(df)\n",
    "print(\"\\nAccessing the single value\")\n",
    "print(df['Name'])\n",
    "print(\"\\nAccessing multiple values\")\n",
    "print(df[['Age','City']])"
   ]
  },
  {
   "cell_type": "code",
   "execution_count": 5,
   "id": "a41eb901",
   "metadata": {},
   "outputs": [
    {
     "data": {
      "text/html": [
       "<div>\n",
       "<style scoped>\n",
       "    .dataframe tbody tr th:only-of-type {\n",
       "        vertical-align: middle;\n",
       "    }\n",
       "\n",
       "    .dataframe tbody tr th {\n",
       "        vertical-align: top;\n",
       "    }\n",
       "\n",
       "    .dataframe thead th {\n",
       "        text-align: right;\n",
       "    }\n",
       "</style>\n",
       "<table border=\"1\" class=\"dataframe\">\n",
       "  <thead>\n",
       "    <tr style=\"text-align: right;\">\n",
       "      <th></th>\n",
       "      <th>Name</th>\n",
       "      <th>Age</th>\n",
       "      <th>City</th>\n",
       "    </tr>\n",
       "  </thead>\n",
       "  <tbody>\n",
       "    <tr>\n",
       "      <th>0</th>\n",
       "      <td>yash</td>\n",
       "      <td>23</td>\n",
       "      <td>pune</td>\n",
       "    </tr>\n",
       "    <tr>\n",
       "      <th>1</th>\n",
       "      <td>ram</td>\n",
       "      <td>45</td>\n",
       "      <td>mumbai</td>\n",
       "    </tr>\n",
       "    <tr>\n",
       "      <th>2</th>\n",
       "      <td>sham</td>\n",
       "      <td>34</td>\n",
       "      <td>nagpur</td>\n",
       "    </tr>\n",
       "    <tr>\n",
       "      <th>3</th>\n",
       "      <td>rahul</td>\n",
       "      <td>22</td>\n",
       "      <td>nashik</td>\n",
       "    </tr>\n",
       "    <tr>\n",
       "      <th>4</th>\n",
       "      <td>Saurabh</td>\n",
       "      <td>32</td>\n",
       "      <td>ahmednagar</td>\n",
       "    </tr>\n",
       "  </tbody>\n",
       "</table>\n",
       "</div>"
      ],
      "text/plain": [
       "      Name  Age        City\n",
       "0     yash   23        pune\n",
       "1      ram   45      mumbai\n",
       "2     sham   34      nagpur\n",
       "3    rahul   22      nashik\n",
       "4  Saurabh   32  ahmednagar"
      ]
     },
     "execution_count": 5,
     "metadata": {},
     "output_type": "execute_result"
    }
   ],
   "source": [
    "# head \n",
    "df.head()"
   ]
  },
  {
   "cell_type": "code",
   "execution_count": 6,
   "id": "81d1e962",
   "metadata": {},
   "outputs": [
    {
     "data": {
      "text/html": [
       "<div>\n",
       "<style scoped>\n",
       "    .dataframe tbody tr th:only-of-type {\n",
       "        vertical-align: middle;\n",
       "    }\n",
       "\n",
       "    .dataframe tbody tr th {\n",
       "        vertical-align: top;\n",
       "    }\n",
       "\n",
       "    .dataframe thead th {\n",
       "        text-align: right;\n",
       "    }\n",
       "</style>\n",
       "<table border=\"1\" class=\"dataframe\">\n",
       "  <thead>\n",
       "    <tr style=\"text-align: right;\">\n",
       "      <th></th>\n",
       "      <th>Name</th>\n",
       "      <th>Age</th>\n",
       "      <th>City</th>\n",
       "    </tr>\n",
       "  </thead>\n",
       "  <tbody>\n",
       "    <tr>\n",
       "      <th>1</th>\n",
       "      <td>ram</td>\n",
       "      <td>45</td>\n",
       "      <td>mumbai</td>\n",
       "    </tr>\n",
       "    <tr>\n",
       "      <th>2</th>\n",
       "      <td>sham</td>\n",
       "      <td>34</td>\n",
       "      <td>nagpur</td>\n",
       "    </tr>\n",
       "    <tr>\n",
       "      <th>3</th>\n",
       "      <td>rahul</td>\n",
       "      <td>22</td>\n",
       "      <td>nashik</td>\n",
       "    </tr>\n",
       "    <tr>\n",
       "      <th>4</th>\n",
       "      <td>Saurabh</td>\n",
       "      <td>32</td>\n",
       "      <td>ahmednagar</td>\n",
       "    </tr>\n",
       "    <tr>\n",
       "      <th>5</th>\n",
       "      <td>rohit</td>\n",
       "      <td>21</td>\n",
       "      <td>solapur</td>\n",
       "    </tr>\n",
       "  </tbody>\n",
       "</table>\n",
       "</div>"
      ],
      "text/plain": [
       "      Name  Age        City\n",
       "1      ram   45      mumbai\n",
       "2     sham   34      nagpur\n",
       "3    rahul   22      nashik\n",
       "4  Saurabh   32  ahmednagar\n",
       "5    rohit   21     solapur"
      ]
     },
     "execution_count": 6,
     "metadata": {},
     "output_type": "execute_result"
    }
   ],
   "source": [
    "df.tail()"
   ]
  },
  {
   "cell_type": "code",
   "execution_count": 7,
   "id": "4ade070d",
   "metadata": {},
   "outputs": [
    {
     "data": {
      "text/html": [
       "<div>\n",
       "<style scoped>\n",
       "    .dataframe tbody tr th:only-of-type {\n",
       "        vertical-align: middle;\n",
       "    }\n",
       "\n",
       "    .dataframe tbody tr th {\n",
       "        vertical-align: top;\n",
       "    }\n",
       "\n",
       "    .dataframe thead th {\n",
       "        text-align: right;\n",
       "    }\n",
       "</style>\n",
       "<table border=\"1\" class=\"dataframe\">\n",
       "  <thead>\n",
       "    <tr style=\"text-align: right;\">\n",
       "      <th></th>\n",
       "      <th>Age</th>\n",
       "    </tr>\n",
       "  </thead>\n",
       "  <tbody>\n",
       "    <tr>\n",
       "      <th>count</th>\n",
       "      <td>6.000000</td>\n",
       "    </tr>\n",
       "    <tr>\n",
       "      <th>mean</th>\n",
       "      <td>29.500000</td>\n",
       "    </tr>\n",
       "    <tr>\n",
       "      <th>std</th>\n",
       "      <td>9.354143</td>\n",
       "    </tr>\n",
       "    <tr>\n",
       "      <th>min</th>\n",
       "      <td>21.000000</td>\n",
       "    </tr>\n",
       "    <tr>\n",
       "      <th>25%</th>\n",
       "      <td>22.250000</td>\n",
       "    </tr>\n",
       "    <tr>\n",
       "      <th>50%</th>\n",
       "      <td>27.500000</td>\n",
       "    </tr>\n",
       "    <tr>\n",
       "      <th>75%</th>\n",
       "      <td>33.500000</td>\n",
       "    </tr>\n",
       "    <tr>\n",
       "      <th>max</th>\n",
       "      <td>45.000000</td>\n",
       "    </tr>\n",
       "  </tbody>\n",
       "</table>\n",
       "</div>"
      ],
      "text/plain": [
       "             Age\n",
       "count   6.000000\n",
       "mean   29.500000\n",
       "std     9.354143\n",
       "min    21.000000\n",
       "25%    22.250000\n",
       "50%    27.500000\n",
       "75%    33.500000\n",
       "max    45.000000"
      ]
     },
     "execution_count": 7,
     "metadata": {},
     "output_type": "execute_result"
    }
   ],
   "source": [
    "df.describe()"
   ]
  },
  {
   "cell_type": "code",
   "execution_count": 8,
   "id": "3e60844d",
   "metadata": {},
   "outputs": [
    {
     "data": {
      "text/plain": [
       "(6, 3)"
      ]
     },
     "execution_count": 8,
     "metadata": {},
     "output_type": "execute_result"
    }
   ],
   "source": [
    "df.shape"
   ]
  },
  {
   "cell_type": "code",
   "execution_count": 9,
   "id": "4e2dd8c8",
   "metadata": {},
   "outputs": [
    {
     "data": {
      "text/plain": [
       "Index(['Name', 'Age', 'City'], dtype='object')"
      ]
     },
     "execution_count": 9,
     "metadata": {},
     "output_type": "execute_result"
    }
   ],
   "source": [
    "df.columns"
   ]
  },
  {
   "cell_type": "code",
   "execution_count": 11,
   "id": "56345659",
   "metadata": {},
   "outputs": [
    {
     "name": "stdout",
     "output_type": "stream",
     "text": [
      "<class 'pandas.core.frame.DataFrame'>\n",
      "RangeIndex: 6 entries, 0 to 5\n",
      "Data columns (total 3 columns):\n",
      " #   Column  Non-Null Count  Dtype \n",
      "---  ------  --------------  ----- \n",
      " 0   Name    6 non-null      object\n",
      " 1   Age     6 non-null      int64 \n",
      " 2   City    6 non-null      object\n",
      "dtypes: int64(1), object(2)\n",
      "memory usage: 276.0+ bytes\n"
     ]
    }
   ],
   "source": [
    "df.info()"
   ]
  },
  {
   "cell_type": "code",
   "execution_count": null,
   "id": "f0b7a183",
   "metadata": {},
   "outputs": [
    {
     "data": {
      "text/plain": [
       "RangeIndex(start=0, stop=6, step=1)"
      ]
     },
     "execution_count": 12,
     "metadata": {},
     "output_type": "execute_result"
    }
   ],
   "source": [
    "\n",
    "df.index"
   ]
  },
  {
   "cell_type": "code",
   "execution_count": 24,
   "id": "6c1ed0d5",
   "metadata": {},
   "outputs": [
    {
     "name": "stdout",
     "output_type": "stream",
     "text": [
      "Display Data using Dataframe\n"
     ]
    },
    {
     "data": {
      "text/html": [
       "<div>\n",
       "<style scoped>\n",
       "    .dataframe tbody tr th:only-of-type {\n",
       "        vertical-align: middle;\n",
       "    }\n",
       "\n",
       "    .dataframe tbody tr th {\n",
       "        vertical-align: top;\n",
       "    }\n",
       "\n",
       "    .dataframe thead th {\n",
       "        text-align: right;\n",
       "    }\n",
       "</style>\n",
       "<table border=\"1\" class=\"dataframe\">\n",
       "  <thead>\n",
       "    <tr style=\"text-align: right;\">\n",
       "      <th></th>\n",
       "      <th>hotel name</th>\n",
       "      <th>rating</th>\n",
       "      <th>rating text</th>\n",
       "      <th>place</th>\n",
       "      <th>near by place</th>\n",
       "      <th>discount price</th>\n",
       "      <th>actual price</th>\n",
       "      <th>facilities</th>\n",
       "      <th>destination name</th>\n",
       "      <th>Unnamed: 9</th>\n",
       "      <th>Unnamed: 10</th>\n",
       "    </tr>\n",
       "  </thead>\n",
       "  <tbody>\n",
       "    <tr>\n",
       "      <th>0</th>\n",
       "      <td>The Fern Sattva Resort - Polo Forest</td>\n",
       "      <td>4.3</td>\n",
       "      <td>Excellent</td>\n",
       "      <td>Abhapur</td>\n",
       "      <td>96.8 km from Ambaji city centre</td>\n",
       "      <td>3896</td>\n",
       "      <td>6449</td>\n",
       "      <td>Spa</td>\n",
       "      <td>Ambaji</td>\n",
       "      <td>NaN</td>\n",
       "      <td>NaN</td>\n",
       "    </tr>\n",
       "    <tr>\n",
       "      <th>1</th>\n",
       "      <td>Pride Resort Ambaji</td>\n",
       "      <td>3.8</td>\n",
       "      <td>Very Good</td>\n",
       "      <td>Ambaji</td>\n",
       "      <td>Not Available</td>\n",
       "      <td>2171</td>\n",
       "      <td>2875</td>\n",
       "      <td>Swimming Pool</td>\n",
       "      <td>Ambaji</td>\n",
       "      <td>NaN</td>\n",
       "      <td>NaN</td>\n",
       "    </tr>\n",
       "    <tr>\n",
       "      <th>2</th>\n",
       "      <td>Royal Inn Hotel</td>\n",
       "      <td>3.9</td>\n",
       "      <td>Very Good</td>\n",
       "      <td>Danta Road</td>\n",
       "      <td>Not Available</td>\n",
       "      <td>1356</td>\n",
       "      <td>2600</td>\n",
       "      <td>Restaurant</td>\n",
       "      <td>Ambaji</td>\n",
       "      <td>NaN</td>\n",
       "      <td>NaN</td>\n",
       "    </tr>\n",
       "    <tr>\n",
       "      <th>3</th>\n",
       "      <td>hotel leela residency</td>\n",
       "      <td>3.9</td>\n",
       "      <td>Very Good</td>\n",
       "      <td>Khodiyar Chowk</td>\n",
       "      <td>Not Available</td>\n",
       "      <td>1282</td>\n",
       "      <td>1500</td>\n",
       "      <td>Air Conditioning</td>\n",
       "      <td>Ambaji</td>\n",
       "      <td>NaN</td>\n",
       "      <td>NaN</td>\n",
       "    </tr>\n",
       "    <tr>\n",
       "      <th>4</th>\n",
       "      <td>HOTEL KARDHAR INN</td>\n",
       "      <td>4.2</td>\n",
       "      <td>Very Good</td>\n",
       "      <td>Khodiyar Chowk</td>\n",
       "      <td>Not Available</td>\n",
       "      <td>1563</td>\n",
       "      <td>3000</td>\n",
       "      <td>Butler Services</td>\n",
       "      <td>Ambaji</td>\n",
       "      <td>NaN</td>\n",
       "      <td>NaN</td>\n",
       "    </tr>\n",
       "  </tbody>\n",
       "</table>\n",
       "</div>"
      ],
      "text/plain": [
       "                             hotel name  rating rating text           place  \\\n",
       "0  The Fern Sattva Resort - Polo Forest     4.3   Excellent         Abhapur   \n",
       "1                   Pride Resort Ambaji     3.8   Very Good          Ambaji   \n",
       "2                       Royal Inn Hotel     3.9   Very Good      Danta Road   \n",
       "3                 hotel leela residency     3.9   Very Good  Khodiyar Chowk   \n",
       "4                     HOTEL KARDHAR INN     4.2   Very Good  Khodiyar Chowk   \n",
       "\n",
       "                     near by place  discount price  actual price  \\\n",
       "0  96.8 km from Ambaji city centre            3896          6449   \n",
       "1                    Not Available            2171          2875   \n",
       "2                    Not Available            1356          2600   \n",
       "3                    Not Available            1282          1500   \n",
       "4                    Not Available            1563          3000   \n",
       "\n",
       "         facilities destination name  Unnamed: 9  Unnamed: 10  \n",
       "0               Spa           Ambaji         NaN          NaN  \n",
       "1     Swimming Pool           Ambaji         NaN          NaN  \n",
       "2        Restaurant           Ambaji         NaN          NaN  \n",
       "3  Air Conditioning           Ambaji         NaN          NaN  \n",
       "4   Butler Services           Ambaji         NaN          NaN  "
      ]
     },
     "execution_count": 24,
     "metadata": {},
     "output_type": "execute_result"
    }
   ],
   "source": [
    "# Reading CSV file with actual data\n",
    "import pandas as pd\n",
    "data2=pd.read_csv('final_hotel.csv')\n",
    "df1=pd.DataFrame(data2)\n",
    "# checking the data\n",
    "print(\"Display Data using Dataframe\")\n",
    "df1.head()\n",
    "\n"
   ]
  },
  {
   "cell_type": "code",
   "execution_count": 26,
   "id": "126bd376",
   "metadata": {},
   "outputs": [
    {
     "data": {
      "text/html": [
       "<div>\n",
       "<style scoped>\n",
       "    .dataframe tbody tr th:only-of-type {\n",
       "        vertical-align: middle;\n",
       "    }\n",
       "\n",
       "    .dataframe tbody tr th {\n",
       "        vertical-align: top;\n",
       "    }\n",
       "\n",
       "    .dataframe thead th {\n",
       "        text-align: right;\n",
       "    }\n",
       "</style>\n",
       "<table border=\"1\" class=\"dataframe\">\n",
       "  <thead>\n",
       "    <tr style=\"text-align: right;\">\n",
       "      <th></th>\n",
       "      <th>hotel name</th>\n",
       "      <th>rating</th>\n",
       "      <th>rating text</th>\n",
       "      <th>place</th>\n",
       "      <th>near by place</th>\n",
       "      <th>discount price</th>\n",
       "      <th>actual price</th>\n",
       "      <th>facilities</th>\n",
       "      <th>destination name</th>\n",
       "      <th>Unnamed: 9</th>\n",
       "      <th>Unnamed: 10</th>\n",
       "    </tr>\n",
       "  </thead>\n",
       "  <tbody>\n",
       "    <tr>\n",
       "      <th>2360</th>\n",
       "      <td>Hotel Vardhan</td>\n",
       "      <td>3.1</td>\n",
       "      <td>Good</td>\n",
       "      <td>Naroli Road, Silvassa</td>\n",
       "      <td>24.3 km from Valsad District</td>\n",
       "      <td>1281</td>\n",
       "      <td>1800</td>\n",
       "      <td>Restaurant</td>\n",
       "      <td>Valsad</td>\n",
       "      <td>NaN</td>\n",
       "      <td>NaN</td>\n",
       "    </tr>\n",
       "    <tr>\n",
       "      <th>2361</th>\n",
       "      <td>Hotel The Seven</td>\n",
       "      <td>3.0</td>\n",
       "      <td>Good</td>\n",
       "      <td>Naroli Road, Silvassa</td>\n",
       "      <td>24.4 km from Valsad District</td>\n",
       "      <td>3169</td>\n",
       "      <td>7249</td>\n",
       "      <td>Gym</td>\n",
       "      <td>Valsad</td>\n",
       "      <td>NaN</td>\n",
       "      <td>NaN</td>\n",
       "    </tr>\n",
       "    <tr>\n",
       "      <th>2362</th>\n",
       "      <td>Yatri Niwas</td>\n",
       "      <td>3.8</td>\n",
       "      <td>Very Good</td>\n",
       "      <td>Naroli Road, Silvassa</td>\n",
       "      <td>24.8 km from Valsad District</td>\n",
       "      <td>2786</td>\n",
       "      <td>3999</td>\n",
       "      <td>Restaurant</td>\n",
       "      <td>Valsad</td>\n",
       "      <td>NaN</td>\n",
       "      <td>NaN</td>\n",
       "    </tr>\n",
       "    <tr>\n",
       "      <th>2363</th>\n",
       "      <td>Hotel Suraj</td>\n",
       "      <td>3.5</td>\n",
       "      <td>Very Good</td>\n",
       "      <td>Naroli Road, Silvassa</td>\n",
       "      <td>24.8 km from Valsad District</td>\n",
       "      <td>1753</td>\n",
       "      <td>2499</td>\n",
       "      <td>24-hour Room service</td>\n",
       "      <td>Valsad</td>\n",
       "      <td>NaN</td>\n",
       "      <td>NaN</td>\n",
       "    </tr>\n",
       "    <tr>\n",
       "      <th>2364</th>\n",
       "      <td>Ras Resorts by Treat</td>\n",
       "      <td>3.9</td>\n",
       "      <td>Very Good</td>\n",
       "      <td>Naroli Road, Silvassa</td>\n",
       "      <td>25.2 km from Valsad District</td>\n",
       "      <td>7211</td>\n",
       "      <td>12199</td>\n",
       "      <td>Swimming Pool</td>\n",
       "      <td>Valsad</td>\n",
       "      <td>NaN</td>\n",
       "      <td>NaN</td>\n",
       "    </tr>\n",
       "  </tbody>\n",
       "</table>\n",
       "</div>"
      ],
      "text/plain": [
       "                hotel name  rating rating text                  place  \\\n",
       "2360         Hotel Vardhan     3.1        Good  Naroli Road, Silvassa   \n",
       "2361       Hotel The Seven     3.0        Good  Naroli Road, Silvassa   \n",
       "2362           Yatri Niwas     3.8   Very Good  Naroli Road, Silvassa   \n",
       "2363           Hotel Suraj     3.5   Very Good  Naroli Road, Silvassa   \n",
       "2364  Ras Resorts by Treat     3.9   Very Good  Naroli Road, Silvassa   \n",
       "\n",
       "                     near by place  discount price  actual price  \\\n",
       "2360  24.3 km from Valsad District            1281          1800   \n",
       "2361  24.4 km from Valsad District            3169          7249   \n",
       "2362  24.8 km from Valsad District            2786          3999   \n",
       "2363  24.8 km from Valsad District            1753          2499   \n",
       "2364  25.2 km from Valsad District            7211         12199   \n",
       "\n",
       "                facilities destination name  Unnamed: 9  Unnamed: 10  \n",
       "2360            Restaurant           Valsad         NaN          NaN  \n",
       "2361                   Gym           Valsad         NaN          NaN  \n",
       "2362            Restaurant           Valsad         NaN          NaN  \n",
       "2363  24-hour Room service           Valsad         NaN          NaN  \n",
       "2364         Swimming Pool           Valsad         NaN          NaN  "
      ]
     },
     "execution_count": 26,
     "metadata": {},
     "output_type": "execute_result"
    }
   ],
   "source": [
    "df1.tail()\n"
   ]
  },
  {
   "cell_type": "code",
   "execution_count": 27,
   "id": "2bc509f9",
   "metadata": {},
   "outputs": [
    {
     "data": {
      "text/html": [
       "<div>\n",
       "<style scoped>\n",
       "    .dataframe tbody tr th:only-of-type {\n",
       "        vertical-align: middle;\n",
       "    }\n",
       "\n",
       "    .dataframe tbody tr th {\n",
       "        vertical-align: top;\n",
       "    }\n",
       "\n",
       "    .dataframe thead th {\n",
       "        text-align: right;\n",
       "    }\n",
       "</style>\n",
       "<table border=\"1\" class=\"dataframe\">\n",
       "  <thead>\n",
       "    <tr style=\"text-align: right;\">\n",
       "      <th></th>\n",
       "      <th>rating</th>\n",
       "      <th>discount price</th>\n",
       "      <th>actual price</th>\n",
       "      <th>Unnamed: 9</th>\n",
       "      <th>Unnamed: 10</th>\n",
       "    </tr>\n",
       "  </thead>\n",
       "  <tbody>\n",
       "    <tr>\n",
       "      <th>count</th>\n",
       "      <td>2365.000000</td>\n",
       "      <td>2365.000000</td>\n",
       "      <td>2365.000000</td>\n",
       "      <td>0.0</td>\n",
       "      <td>0.0</td>\n",
       "    </tr>\n",
       "    <tr>\n",
       "      <th>mean</th>\n",
       "      <td>3.540761</td>\n",
       "      <td>2483.551797</td>\n",
       "      <td>3435.785201</td>\n",
       "      <td>NaN</td>\n",
       "      <td>NaN</td>\n",
       "    </tr>\n",
       "    <tr>\n",
       "      <th>std</th>\n",
       "      <td>0.613404</td>\n",
       "      <td>2595.499833</td>\n",
       "      <td>3330.495465</td>\n",
       "      <td>NaN</td>\n",
       "      <td>NaN</td>\n",
       "    </tr>\n",
       "    <tr>\n",
       "      <th>min</th>\n",
       "      <td>1.000000</td>\n",
       "      <td>305.000000</td>\n",
       "      <td>400.000000</td>\n",
       "      <td>NaN</td>\n",
       "      <td>NaN</td>\n",
       "    </tr>\n",
       "    <tr>\n",
       "      <th>25%</th>\n",
       "      <td>3.300000</td>\n",
       "      <td>1242.000000</td>\n",
       "      <td>1800.000000</td>\n",
       "      <td>NaN</td>\n",
       "      <td>NaN</td>\n",
       "    </tr>\n",
       "    <tr>\n",
       "      <th>50%</th>\n",
       "      <td>3.500000</td>\n",
       "      <td>1733.000000</td>\n",
       "      <td>2519.000000</td>\n",
       "      <td>NaN</td>\n",
       "      <td>NaN</td>\n",
       "    </tr>\n",
       "    <tr>\n",
       "      <th>75%</th>\n",
       "      <td>3.900000</td>\n",
       "      <td>2721.000000</td>\n",
       "      <td>4000.000000</td>\n",
       "      <td>NaN</td>\n",
       "      <td>NaN</td>\n",
       "    </tr>\n",
       "    <tr>\n",
       "      <th>max</th>\n",
       "      <td>5.000000</td>\n",
       "      <td>45000.000000</td>\n",
       "      <td>50000.000000</td>\n",
       "      <td>NaN</td>\n",
       "      <td>NaN</td>\n",
       "    </tr>\n",
       "  </tbody>\n",
       "</table>\n",
       "</div>"
      ],
      "text/plain": [
       "            rating  discount price  actual price  Unnamed: 9  Unnamed: 10\n",
       "count  2365.000000     2365.000000   2365.000000         0.0          0.0\n",
       "mean      3.540761     2483.551797   3435.785201         NaN          NaN\n",
       "std       0.613404     2595.499833   3330.495465         NaN          NaN\n",
       "min       1.000000      305.000000    400.000000         NaN          NaN\n",
       "25%       3.300000     1242.000000   1800.000000         NaN          NaN\n",
       "50%       3.500000     1733.000000   2519.000000         NaN          NaN\n",
       "75%       3.900000     2721.000000   4000.000000         NaN          NaN\n",
       "max       5.000000    45000.000000  50000.000000         NaN          NaN"
      ]
     },
     "execution_count": 27,
     "metadata": {},
     "output_type": "execute_result"
    }
   ],
   "source": [
    "df1.describe()"
   ]
  },
  {
   "cell_type": "code",
   "execution_count": 28,
   "id": "c521b4c9",
   "metadata": {},
   "outputs": [
    {
     "data": {
      "text/plain": [
       "Index(['hotel name', 'rating', 'rating text', 'place', 'near by place',\n",
       "       'discount price', 'actual price', 'facilities', 'destination name',\n",
       "       'Unnamed: 9', 'Unnamed: 10'],\n",
       "      dtype='object')"
      ]
     },
     "execution_count": 28,
     "metadata": {},
     "output_type": "execute_result"
    }
   ],
   "source": [
    "df1.columns"
   ]
  },
  {
   "cell_type": "code",
   "execution_count": null,
   "id": "7a108a13",
   "metadata": {},
   "outputs": [],
   "source": [
    "df1"
   ]
  },
  {
   "cell_type": "code",
   "execution_count": 38,
   "id": "3bd3390b",
   "metadata": {},
   "outputs": [
    {
     "name": "stdout",
     "output_type": "stream",
     "text": [
      "Highest rating: 5.0\n",
      "1.0\n",
      "3435.785200845666\n",
      "2519.0\n",
      "50000\n",
      "45000\n",
      "305\n",
      "2595.4998332647842\n"
     ]
    }
   ],
   "source": [
    "# Maximum and minimum rating\n",
    "print(\"Highest rating:\",df1['rating'].max())      # Highest rating\n",
    "print(df1['rating'].min())      # Lowest rating\n",
    "\n",
    "# Actual price statistics\n",
    "print(df1['actual price'].mean())    # Average price (use mean(), not avg())\n",
    "print(df1['actual price'].median())  # Median price\n",
    "print(df1['actual price'].max())     # Maximum actual price\n",
    "\n",
    "# Discount price statistics\n",
    "print(df1['discount price'].max())   # Maximum discount price\n",
    "print(df1['discount price'].min())   # Minimum discount price\n",
    "print(df1['discount price'].std())   # Standard deviation of discount price\n"
   ]
  }
 ],
 "metadata": {
  "kernelspec": {
   "display_name": "Python 3",
   "language": "python",
   "name": "python3"
  },
  "language_info": {
   "codemirror_mode": {
    "name": "ipython",
    "version": 3
   },
   "file_extension": ".py",
   "mimetype": "text/x-python",
   "name": "python",
   "nbconvert_exporter": "python",
   "pygments_lexer": "ipython3",
   "version": "3.13.5"
  }
 },
 "nbformat": 4,
 "nbformat_minor": 5
}
